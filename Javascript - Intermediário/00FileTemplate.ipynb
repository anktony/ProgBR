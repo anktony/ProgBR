{
 "cells": [
  {
   "cell_type": "markdown",
   "metadata": {},
   "source": [
    "# Módulo 9 - \n",
    "* **Fonte:** [ProgBR WebDev FullStack](https://programadorbr.club.hotmart.com/lesson/xkOX5PGN4W/introducao-javascript-intermediario);"
   ]
  },
  {
   "cell_type": "markdown",
   "metadata": {},
   "source": [
    "-----\n",
    "# Códigos"
   ]
  },
  {
   "cell_type": "code",
   "execution_count": null,
   "metadata": {
    "dotnet_interactive": {
     "language": "csharp"
    }
   },
   "outputs": [],
   "source": [
    "Debug.Log(\"Hello World!\"); //--> Printa mensagem no console"
   ]
  },
  {
   "cell_type": "markdown",
   "metadata": {},
   "source": [
    "-----\n",
    "# Anotações\n",
    "* select object + F --> quick focus;"
   ]
  },
  {
   "cell_type": "markdown",
   "metadata": {},
   "source": [
    "-----\n",
    "# Conceitos e Expressões\n",
    "* physics material: Material usado para ajustar friction e bounciness;"
   ]
  },
  {
   "cell_type": "markdown",
   "metadata": {},
   "source": [
    "-----\n",
    "# Observações:\n",
    "* sempre que for trabalhar com UI Elements é necessario importar UnityEgine.UI;\n"
   ]
  }
 ],
 "metadata": {
  "kernelspec": {
   "display_name": ".NET (C#)",
   "language": "C#",
   "name": ".net-csharp"
  },
  "language_info": {
   "name": "C#"
  }
 },
 "nbformat": 4,
 "nbformat_minor": 2
}
