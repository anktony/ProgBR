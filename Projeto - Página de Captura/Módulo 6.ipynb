{
 "cells": [
  {
   "cell_type": "markdown",
   "metadata": {},
   "source": [
    "-----\n",
    "# Módulo 6 - Página de Captura\n",
    "* **Fonte:**  [ProgramadorBR WebDev Full stack](https://programadorbr.club.hotmart.com/lesson/0r48kALJOR/introducao-pagina-de-captura)"
   ]
  },
  {
   "cell_type": "markdown",
   "metadata": {},
   "source": [
    "-----\n",
    "# Códigos"
   ]
  },
  {
   "cell_type": "code",
   "execution_count": null,
   "metadata": {
    "dotnet_interactive": {
     "language": "csharp"
    }
   },
   "outputs": [],
   "source": [
    "#CSS\n",
    "input[type=\"submit\"]{} seletor que se aplica apenas ao input do tipo submit;"
   ]
  },
  {
   "cell_type": "markdown",
   "metadata": {},
   "source": [
    "-----\n",
    "# Anotações\n",
    "* Auto-Close Tags não aceitam conteúdo. Para mudar o conteúdo de exibição, deve-se alterar a propriedade value;\n",
    "* Podem ser inseridos 2 dígitos extras num color-hex para definir a transparencia. EX: #FFFFFFBB"
   ]
  },
  {
   "cell_type": "markdown",
   "metadata": {},
   "source": [
    "-----\n",
    "# Conceitos e Expressões\n",
    "* physics material: Material usado para ajustar friction e bounciness;\n",
    "* [mailchimp.com](mailchimp.com) site gerenciador de email;"
   ]
  },
  {
   "cell_type": "markdown",
   "metadata": {},
   "source": [
    "-----\n",
    "# Observações:\n",
    "* sempre que for trabalhar com UI Elements é necessario importar UnityEgine.UI;\n"
   ]
  }
 ],
 "metadata": {
  "interpreter": {
   "hash": "bc4a3e018a518952738c1d8bd003e232723977cd9bacae76c2bb66def423def8"
  },
  "kernelspec": {
   "display_name": "Python 3.9.7 64-bit",
   "name": "python3"
  },
  "language_info": {
   "name": "python",
   "version": "3.9.7"
  }
 },
 "nbformat": 4,
 "nbformat_minor": 2
}
