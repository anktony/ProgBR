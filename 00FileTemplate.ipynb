{
 "metadata": {
  "kernelspec": {
   "display_name": ".NET (C#)",
   "language": "C#",
   "name": ".net-csharp"
  },
  "language_info": {
   "name": "C#"
  }
 },
 "cells": [
  {
   "cell_type": "markdown",
   "source": [
    "-----\r\n",
    "# Source\r\n",
    "* **Fonte:** link da fonte;"
   ],
   "metadata": {}
  },
  {
   "cell_type": "markdown",
   "source": [
    "-----\r\n",
    "# Códigos"
   ],
   "metadata": {}
  },
  {
   "cell_type": "code",
   "execution_count": null,
   "source": [
    "Debug.Log(\"Hello World!\"); //--> Printa mensagem no console"
   ],
   "outputs": [],
   "metadata": {
    "dotnet_interactive": {
     "language": "csharp"
    }
   }
  },
  {
   "cell_type": "markdown",
   "source": [
    "-----\r\n",
    "# Anotações\r\n",
    "* select object + F --> quick focus;"
   ],
   "metadata": {}
  },
  {
   "cell_type": "markdown",
   "source": [
    "-----\r\n",
    "# Conceitos e Expressões\r\n",
    "* physics material: Material usado para ajustar friction e bounciness;"
   ],
   "metadata": {}
  },
  {
   "cell_type": "markdown",
   "source": [
    "-----\r\n",
    "# Observações:\r\n",
    "* sempre que for trabalhar com UI Elements é necessario importar UnityEgine.UI;\r\n"
   ],
   "metadata": {}
  }
 ],
 "nbformat": 4,
 "nbformat_minor": 2
}