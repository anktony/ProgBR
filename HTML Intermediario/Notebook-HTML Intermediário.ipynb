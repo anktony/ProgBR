{
 "metadata": {
  "kernelspec": {
   "name": "python3",
   "display_name": "Python 3.9.7 64-bit"
  },
  "language_info": {
   "name": "python",
   "version": "3.9.7",
   "mimetype": "text/x-python",
   "codemirror_mode": {
    "name": "ipython",
    "version": 3
   },
   "pygments_lexer": "ipython3",
   "nbconvert_exporter": "python",
   "file_extension": ".py"
  },
  "interpreter": {
   "hash": "bc4a3e018a518952738c1d8bd003e232723977cd9bacae76c2bb66def423def8"
  }
 },
 "cells": [
  {
   "cell_type": "markdown",
   "source": [
    "-----\r\n",
    "# Módulo 5 - HTML Intermediário\r\n",
    "* **Fonte:**  [ProgramadorBR WebDev Full stack](https://programadorbr.club.hotmart.com/lesson/3V4VKJAEe2/introducao-html-intermediario)"
   ],
   "metadata": {}
  },
  {
   "cell_type": "markdown",
   "source": [
    "-----\r\n",
    "# Códigos"
   ],
   "metadata": {}
  },
  {
   "cell_type": "code",
   "execution_count": 6,
   "source": [
    "%%HTML\r\n",
    "<form method=\"GET\"> Envia os dados no endereço(url);</form>\r\n",
    "<form method=\"POST\"> Não envia os dados no endereço(url);</form>\r\n",
    "<form action=\"/exemplo\"> Action recebe o link/endereço a ser executado.</form>\r\n",
    "    <input type=\"text\"> Input do tipo Texto(campo pequeno padrão);<br>\r\n",
    "    <input type=\"submit\"> Input que gera botão de envio(texto padrão do idioma);<br>\r\n",
    "    <input type=\"password\"> Input que oculta os caracteres digitados. Usar sempre com POST;<br>\r\n",
    "    <input type=\"checkbox\"> quando ativado envia \"name = on\" no endereço do GET;  <br>\r\n",
    "    <input value=\"exemplo1\"> serve para diferenciar propriedades que ventualmente terão mesmo nome(radio, checkbox, etc.);<br>\r\n",
    "    <input type=\"radio\"> Radios com mesmo nome não podem ser ativados simultaneamente;<br>\r\n",
    "    <input checked> toggle on automaticamente elementos como radio e checkbox;<br>\r\n",
    "    <input type=\"reset\"> reseta os dados adicionados/modificados no form para o estado original;<br>\r\n",
    "    <select> Cria um dropbox;<br>\r\n",
    "    <select multiple> multiple permite que mais de um elemento seja selecionado no dropdown/scroll;<br>\r\n",
    "    <select size=\"5\"> a propriedade size transforma o dropdown em um scroll, nesse caso com tamanho 5;<br>\r\n",
    "        <option value=\"Ex\">exemplo</option> cria um item no dropdown;<br>\r\n",
    "        <option selected> seta esta opção como default no dropdown;<br>\r\n",
    "    <textarea> cria um campo de texto maior que o input=\"text\" padrão;</textarea><br>\r\n",
    "# HTML5\r\n",
    "    <input type=\"color\"> cria um botão que leva à caixade seleção de cores; Passa o hexadeximal da cor selecionada;(HTML5)<br>\r\n",
    "    <input type=\"date\" max=\"2018-12-31\"> cria um campo de seleção de data, nesse caso com limite de 2018;(HTML5)<br>\r\n",
    "    <input type=\"datetime-local\"> cria um campo de seleção de data e tempo(Horas e minutos);<br>\r\n",
    "    <input type=\"file\"> seleciona arquivo da maquina, e envia ao servidor. Exclusivamente atraves do POST;<br>\r\n",
    "    <input type=\"number\"> cria input de texto padrão, mas que so aceita números; pode ter pripriedades min=\"x\" e max=\"y\";<br>\r\n",
    "    <input type=\"range\"> cria um slider com intervalo entre min e max definidos. pode receber um value como valor padrão;<br>\r\n",
    "    <input type=\"tel\"> cria input que mostra teclado específico para digitação de num de telefone;<br>\r\n",
    "    <input type=\"email\"> input que verifica se o que está sendo digitado é realmente um email, caso contrário ele não envia;<br>\r\n",
    "# HTML5 Tags Semânticas\r\n",
    "    <header></header> Cabeçalho da página, usado ao invés de <div>. Facilita o SEO para o google;<br>\r\n",
    "    <footer></footer> Footer da página, usado ao invés de <div>. Facilita o SEO para o google;<br>\r\n",
    "    <main></main> o principal conteúdo da página. Só pode aparecer uma vez por página; Normalmente tem todo conteúdo dentro;<br>\r\n",
    "    <nav></nav> indica alguma navegação na pagina: menus, etc;<br>\r\n",
    "    <section></section> Usada para segmentar o site em seções/agrupar/categorizar elementos/conteúdo;<br>\r\n",
    "    <article></article> o artigo do site; Deve ser usado sempre que o conteúdo fizer sentido independente do site em que está;<br>\r\n",
    "    "
   ],
   "outputs": [
    {
     "output_type": "display_data",
     "data": {
      "text/html": [
       "<form method=\"GET\"> Envia os dados no endereço(url);</form>\r\n",
       "<form method=\"POST\"> Não envia os dados no endereço(url);</form>\r\n",
       "<form action=\"/exemplo\"> Action recebe o link/endereço a ser executado.</form>\r\n",
       "    <input type=\"text\"> Input do tipo Texto(campo pequeno padrão);<br>\r\n",
       "    <input type=\"submit\"> Input que gera botão de envio(texto padrão do idioma);<br>\r\n",
       "    <input type=\"password\"> Input que oculta os caracteres digitados. Usar sempre com POST;<br>\r\n",
       "    <input type=\"checkbox\"> quando ativado envia \"name = on\" no endereço do GET;  <br>\r\n",
       "    <input value=\"exemplo1\"> serve para diferenciar propriedades que ventualmente terão mesmo nome(radio, checkbox, etc.);<br>\r\n",
       "    <input type=\"radio\"> Radios com mesmo nome não podem ser ativados simultaneamente;<br>\r\n",
       "    <input checked> toggle on automaticamente elementos como radio e checkbox;<br>\r\n",
       "    <input type=\"reset\"> reseta os dados adicionados/modificados no form para o estado original;<br>\r\n",
       "    <select> Cria um dropbox;<br>\r\n",
       "    <select multiple> multiple permite que mais de um elemento seja selecionado no dropdown/scroll;<br>\r\n",
       "    <select size=\"5\"> a propriedade size transforma o dropdown em um scroll, nesse caso com tamanho 5;<br>\r\n",
       "        <option value=\"Ex\">exemplo</option> cria um item no dropdown;<br>\r\n",
       "        <option selected> seta esta opção como default no dropdown;<br>\r\n",
       "    <textarea> cria um campo de texto maior que o input=\"text\" padrão;</textarea><br>\r\n",
       "# HTML5\r\n",
       "    <input type=\"color\"> cria um botão que leva à caixade seleção de cores; Passa o hexadeximal da cor selecionada;(HTML5)<br>\r\n",
       "    <input type=\"date\" max=\"2018-12-31\"> cria um campo de seleção de data, nesse caso com limite de 2018;(HTML5)<br>\r\n",
       "    <input type=\"datetime-local\"> cria um campo de seleção de data e tempo(Horas e minutos);<br>\r\n",
       "    <input type=\"file\"> seleciona arquivo da maquina, e envia ao servidor. Exclusivamente atraves do POST;<br>\r\n",
       "    <input type=\"number\"> cria input de texto padrão, mas que so aceita números; pode ter pripriedades min=\"x\" e max=\"y\";<br>\r\n",
       "    <input type=\"range\"> cria um slider com intervalo entre min e max definidos. pode receber um value como valor padrão;<br>\r\n",
       "    <input type=\"tel\"> cria input que mostra teclado específico para digitação de num de telefone;<br>\r\n",
       "    <input type=\"email\"> input que verifica se o que está sendo digitado é realmente um email, caso contrário ele não envia;<br>\r\n",
       "# HTML5 Tags Semânticas\r\n",
       "    <header></header> Cabeçalho da página, usado ao invés de <div>. Facilita o SEO para o google;<br>\r\n",
       "    <footer></footer> Footer da página, usado ao invés de <div>. Facilita o SEO para o google;<br>\r\n",
       "    <main></main> o principal conteúdo da página. Só pode aparecer uma vez por página; Normalmente tem todo conteúdo dentro;<br>\r\n",
       "    <nav></nav> indica alguma navegação na pagina: menus, etc;<br>\r\n",
       "    <section></section> Usada para segmentar o site em seções/agrupar/categorizar elementos/conteúdo;<br>\r\n",
       "    <article></article> o artigo do site; Deve ser usado sempre que o conteúdo fizer sentido independente do site em que está;<br>\r\n",
       "    \n"
      ],
      "text/plain": [
       "<IPython.core.display.HTML object>"
      ]
     },
     "metadata": {}
    }
   ],
   "metadata": {
    "dotnet_interactive": {
     "language": "csharp"
    }
   }
  },
  {
   "cell_type": "markdown",
   "source": [
    "-----\r\n",
    "# Anotações\r\n",
    "* elementos sem a propriedade name não serão enviados no formulario;\r\n",
    "* [caniuse.com](https://caniuse.com/) para checar se certa funcionalidade roda em certo navegador \r\n"
   ],
   "metadata": {}
  },
  {
   "cell_type": "markdown",
   "source": [
    "-----\r\n",
    "# Conceitos e Expressões\r\n",
    "* "
   ],
   "metadata": {}
  },
  {
   "cell_type": "markdown",
   "source": [
    "-----\r\n",
    "# Observações:\r\n",
    "* rever tags semânticas, com foco em section e article;\r\n"
   ],
   "metadata": {}
  }
 ],
 "nbformat": 4,
 "nbformat_minor": 2
}