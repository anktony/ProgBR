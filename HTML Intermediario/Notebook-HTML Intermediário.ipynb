{
 "cells": [
  {
   "cell_type": "markdown",
   "metadata": {},
   "source": [
    "-----\n",
    "# Módulo 5 - HTML Intermediário\n",
    "* **Fonte:**  [ProgramadorBR WebDev Full stack](https://programadorbr.club.hotmart.com/lesson/3V4VKJAEe2/introducao-html-intermediario)"
   ]
  },
  {
   "cell_type": "markdown",
   "metadata": {},
   "source": [
    "-----\n",
    "# Códigos"
   ]
  },
  {
   "cell_type": "code",
   "execution_count": null,
   "metadata": {
    "dotnet_interactive": {
     "language": "csharp"
    }
   },
   "outputs": [],
   "source": [
    "%%HTML\n",
    "<form method=\"GET\"> Envia os dados no endereço(url);</form>\n",
    "<form method=\"POST\"> Não envia os dados no endereço(url);</form>\n",
    "<form action=\"/exemplo\"> Action recebe o link/endereço a ser executado.</form>\n",
    "    <input type=\"text\"> Input do tipo Texto(campo pequeno padrão);<br>\n",
    "    <input type=\"submit\"> Input que gera botão de envio(texto padrão do idioma);<br>\n",
    "    <input type=\"password\"> Input que oculta os caracteres digitados. Usar sempre com POST;<br>\n",
    "    <input type=\"checkbox\"> quando ativado envia \"name = on\" no endereço do GET;  <br>\n",
    "    <input value=\"exemplo1\"> serve para diferenciar propriedades que ventualmente terão mesmo nome(radio, checkbox, etc.);<br>\n",
    "    <input type=\"radio\"> Radios com mesmo nome não podem ser ativados simultaneamente;<br>\n",
    "    <input checked> toggle on automaticamente elementos como radio e checkbox;<br>\n",
    "    <input type=\"reset\"> reseta os dados adicionados/modificados no form para o estado original;<br>\n",
    "    <select> Cria um dropbox;<br>\n",
    "    <select multiple> multiple permite que mais de um elemento seja selecionado no dropdown/scroll;<br>\n",
    "    <select size=\"5\"> a propriedade size transforma o dropdown em um scroll, nesse caso com tamanho 5;<br>\n",
    "        <option value=\"Ex\">exemplo</option> cria um item no dropdown;<br>\n",
    "        <option selected> seta esta opção como default no dropdown;<br>\n",
    "    <textarea> cria um campo de texto maior que o input=\"text\" padrão;</textarea><br>\n",
    "# HTML5\n",
    "    <input type=\"color\"> cria um botão que leva à caixade seleção de cores; Passa o hexadeximal da cor selecionada;(HTML5)<br>\n",
    "    <input type=\"date\" max=\"2018-12-31\"> cria um campo de seleção de data, nesse caso com limite de 2018;(HTML5)<br>\n",
    "    <input type=\"datetime-local\"> cria um campo de seleção de data e tempo(Horas e minutos);<br>\n",
    "    <input type=\"file\"> seleciona arquivo da maquina, e envia ao servidor. Exclusivamente atraves do POST;<br>\n",
    "    <input type=\"number\"> cria input de texto padrão, mas que so aceita números; pode ter pripriedades min=\"x\" e max=\"y\";<br>\n",
    "    <input type=\"range\"> cria um slider com intervalo entre min e max definidos. pode receber um value como valor padrão;<br>\n",
    "    <input type=\"tel\"> cria input que mostra teclado específico para digitação de num de telefone;<br>\n",
    "    <input type=\"email\"> input que verifica se o que está sendo digitado é realmente um email, caso contrário ele não envia;<br>\n",
    "# HTML5 Tags Semânticas\n",
    "<header></header> Cabeçalho da página, usado ao invés de <div>. Facilita o SEO para o google;<br>\n",
    "<footer></footer> Footer da página, usado ao invés de <div>. Facilita o SEO para o google;<br>\n",
    "<main></main> o principal conteúdo da página. Só pode aparecer uma vez por página; Normalmente tem todo conteúdo dentro;<br>\n",
    "<nav></nav> indica alguma navegação na pagina: menus, etc;<br>\n",
    "<section></section> Usada para segmentar o site em seções/agrupar/categorizar elementos/conteúdo;<br>\n",
    "<article></article> o artigo do site; Deve ser usado sempre que o conteúdo fizer sentido independente do site em que está;<br>\n",
    "    "
   ]
  },
  {
   "cell_type": "markdown",
   "metadata": {},
   "source": [
    "-----\n",
    "# Anotações\n",
    "* elementos sem a propriedade name não serão enviados no formulario;\n",
    "* [caniuse.com](https://caniuse.com/) para checar se certa funcionalidade roda em certo navegador \n"
   ]
  },
  {
   "cell_type": "markdown",
   "metadata": {},
   "source": [
    "-----\n",
    "# Conceitos e Expressões\n",
    "* "
   ]
  },
  {
   "cell_type": "markdown",
   "metadata": {},
   "source": [
    "-----\n",
    "# Observações:\n",
    "* rever tags semânticas, com foco em section e article;\n"
   ]
  }
 ],
 "metadata": {
  "interpreter": {
   "hash": "bc4a3e018a518952738c1d8bd003e232723977cd9bacae76c2bb66def423def8"
  },
  "kernelspec": {
   "display_name": "Python 3.9.7 64-bit",
   "name": "python3"
  },
  "language_info": {
   "codemirror_mode": {
    "name": "ipython",
    "version": 3
   },
   "file_extension": ".py",
   "mimetype": "text/x-python",
   "name": "python",
   "nbconvert_exporter": "python",
   "pygments_lexer": "ipython3",
   "version": "3.9.7"
  }
 },
 "nbformat": 4,
 "nbformat_minor": 2
}
