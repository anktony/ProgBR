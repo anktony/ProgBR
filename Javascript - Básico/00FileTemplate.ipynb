{
 "metadata": {
  "kernelspec": {
   "name": "python3",
   "display_name": "Python 3.9.7 64-bit"
  },
  "language_info": {
   "name": "python",
   "version": "3.9.7"
  },
  "interpreter": {
   "hash": "bc4a3e018a518952738c1d8bd003e232723977cd9bacae76c2bb66def423def8"
  }
 },
 "cells": [
  {
   "cell_type": "markdown",
   "source": [
    "-----\r\n",
    "# Source\r\n",
    "* **Fonte:** link da fonte;"
   ],
   "metadata": {}
  },
  {
   "cell_type": "markdown",
   "source": [
    "-----\r\n",
    "# Códigos"
   ],
   "metadata": {}
  },
  {
   "cell_type": "code",
   "execution_count": null,
   "source": [
    "Debug.Log(\"Hello World!\"); //--> Printa mensagem no console"
   ],
   "outputs": [],
   "metadata": {
    "dotnet_interactive": {
     "language": "csharp"
    }
   }
  },
  {
   "cell_type": "markdown",
   "source": [
    "-----\r\n",
    "# Anotações\r\n",
    "* select object + F --> quick focus;"
   ],
   "metadata": {}
  },
  {
   "cell_type": "markdown",
   "source": [
    "-----\r\n",
    "# Conceitos e Expressões\r\n",
    "* physics material: Material usado para ajustar friction e bounciness;"
   ],
   "metadata": {}
  },
  {
   "cell_type": "markdown",
   "source": [
    "-----\r\n",
    "# Observações:\r\n",
    "* sempre que for trabalhar com UI Elements é necessario importar UnityEgine.UI;\r\n"
   ],
   "metadata": {}
  }
 ],
 "nbformat": 4,
 "nbformat_minor": 2
}